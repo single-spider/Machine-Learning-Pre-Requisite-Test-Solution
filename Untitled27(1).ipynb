{
  "nbformat": 4,
  "nbformat_minor": 0,
  "metadata": {
    "colab": {
      "provenance": []
    },
    "kernelspec": {
      "name": "python3",
      "display_name": "Python 3"
    },
    "language_info": {
      "name": "python"
    }
  },
  "cells": [
    {
      "cell_type": "code",
      "source": [
        "# Standard library imports\n",
        "import sys\n",
        "import time\n",
        "import random\n",
        "from timeit import timeit\n",
        "\n",
        "# Third-party library imports\n",
        "import numpy as np\n",
        "import pandas as pd\n",
        "import matplotlib.pyplot as plt\n",
        "import sympy\n",
        "import jax\n",
        "import jax.numpy as jnp\n",
        "\n",
        "# Configure notebook for display\n",
        "sympy.init_printing(use_latex='mathjax')\n",
        "%matplotlib inline"
      ],
      "metadata": {
        "id": "eAznK2BOGQUu"
      },
      "execution_count": 3,
      "outputs": []
    },
    {
      "cell_type": "markdown",
      "source": [
        "### Question 1\n",
        "\n",
        "**Question:** How many multiplications and additions do you need to perform a matrix multiplication between a (n, k) and (k, m) matrix? Explain.\n",
        "\n",
        "**Answer:**\n",
        "\n",
        "Let's denote the two matrices as **A** (with dimensions n x k) and **B** (with dimensions k x m). The resulting matrix, **C**, will have dimensions n x m.\n",
        "\n",
        "**C = A B**\n",
        "\n",
        "To calculate a single element `C[i][j]` in the resulting matrix, we take the dot product of the i-th row of **A** and the j-th column of **B**.\n",
        "\n",
        "The i-th row of **A** is `[A[i][0], A[i][1], ..., A[i][k-1]]`.\n",
        "The j-th column of **B** is `[B[0][j], B[1][j], ..., B[k-1][j]]`.\n",
        "\n",
        "The calculation for `C[i][j]` is:\n",
        "`C[i][j] = A[i][0]*B[0][j] + A[i][1]*B[1][j] + ... + A[i][k-1]*B[k-1][j]`\n",
        "\n",
        "Let's analyze the operations for this single element:\n",
        "*   **Multiplications:** We perform one multiplication for each term in the sum. Since both the row from **A** and the column from **B** have `k` elements, there are **k multiplications**.\n",
        "*   **Additions:** To sum up these `k` terms, we need **k-1 additions**.\n",
        "\n",
        "Now, we need to do this for every element in the resulting matrix **C**. The matrix **C** has `n` rows and `m` columns, so it has a total of `n * m` elements.\n",
        "\n",
        "Therefore, the total number of operations is:\n",
        "\n",
        "*   **Total Multiplications:** (Number of elements in C) × (Multiplications per element) = **n * m * k**\n",
        "*   **Total Additions:** (Number of elements in C) × (Additions per element) = **n * m * (k-1)**"
      ],
      "metadata": {
        "id": "ME6GW2baJDxD"
      }
    },
    {
      "cell_type": "markdown",
      "source": [
        "\n",
        "### Question 2\n",
        "\n",
        "**Question:** Write Python code to multiply the above two matrices. Solve using list of lists and then use numpy. Compare the timing of both solutions. Which one is faster? Why?"
      ],
      "metadata": {
        "id": "xvo1CEx7JYVt"
      }
    },
    {
      "cell_type": "code",
      "execution_count": 4,
      "metadata": {
        "colab": {
          "base_uri": "https://localhost:8080/"
        },
        "id": "vdyP1hcREboS",
        "outputId": "0f9cd6c1-1dd7-43d6-a5e6-9093d05cdc84"
      },
      "outputs": [
        {
          "output_type": "stream",
          "name": "stdout",
          "text": [
            "Time taken using lists of lists: 2.368342 seconds\n",
            "Time taken using NumPy: 0.005816 seconds\n",
            "\n",
            "NumPy is approximately 407.23 times faster.\n"
          ]
        }
      ],
      "source": [
        "\n",
        "import time\n",
        "import random\n",
        "\n",
        "def multiply_with_lists(A, B):\n",
        "    \"\"\"Multiplies two matrices represented as lists of lists.\"\"\"\n",
        "    n = len(A)\n",
        "    k = len(A[0])\n",
        "    m = len(B[0])\n",
        "\n",
        "    # Ensure dimensions are compatible\n",
        "    if len(B) != k:\n",
        "        raise ValueError(\"Matrix dimensions are not compatible for multiplication.\")\n",
        "\n",
        "    # Initialize result matrix with zeros\n",
        "    C = [[0 for _ in range(m)] for _ in range(n)]\n",
        "\n",
        "    for i in range(n):\n",
        "        for j in range(m):\n",
        "            for l in range(k):\n",
        "                C[i][j] += A[i][l] * B[l][j]\n",
        "    return C\n",
        "\n",
        "# Now, let's use NumPy\n",
        "import numpy as np\n",
        "\n",
        "def multiply_with_numpy(A, B):\n",
        "    \"\"\"Multiplies two matrices using NumPy.\"\"\"\n",
        "    return np.dot(A, B)\n",
        "\n",
        "\n",
        "# --- Comparison ---\n",
        "# Define matrix dimensions\n",
        "n, k, m = 200, 300, 250\n",
        "\n",
        "# Create large random matrices for timing comparison\n",
        "# For list of lists\n",
        "A_list = [[random.random() for _ in range(k)] for _ in range(n)]\n",
        "B_list = [[random.random() for _ in range(m)] for _ in range(k)]\n",
        "\n",
        "# For NumPy\n",
        "A_np = np.array(A_list)\n",
        "B_np = np.array(B_list)\n",
        "\n",
        "# Time the list-based implementation\n",
        "start_time_list = time.time()\n",
        "C_list = multiply_with_lists(A_list, B_list)\n",
        "end_time_list = time.time()\n",
        "list_duration = end_time_list - start_time_list\n",
        "print(f\"Time taken using lists of lists: {list_duration:.6f} seconds\")\n",
        "\n",
        "# Time the NumPy-based implementation\n",
        "start_time_numpy = time.time()\n",
        "C_np = multiply_with_numpy(A_np, B_np)\n",
        "end_time_numpy = time.time()\n",
        "numpy_duration = end_time_numpy - start_time_numpy\n",
        "print(f\"Time taken using NumPy: {numpy_duration:.6f} seconds\")\n",
        "\n",
        "print(f\"\\nNumPy is approximately {list_duration / numpy_duration:.2f} times faster.\")"
      ]
    },
    {
      "cell_type": "markdown",
      "source": [
        "**Which one is faster? Why?**\n",
        "\n",
        "**NumPy is significantly faster.**\n",
        "\n",
        "The reason for this dramatic difference in performance is due to how each library handles the operations:\n",
        "\n",
        "1.  **Compiled Code vs. Interpreted Code:** NumPy operations are not executed in Python. They are pre-compiled, highly optimized C or Fortran code. The Python `for` loops in our list-based implementation are interpreted, which carries a large overhead for each iteration.\n",
        "2.  **Memory Layout:** NumPy arrays are dense, contiguous blocks of memory. This allows the underlying C code to access data very quickly and leverage CPU optimizations like vectorization (SIMD). Python lists, on the other hand, are arrays of pointers to Python objects, which can be scattered all over memory, leading to slower access times.\n",
        "3.  **Algorithmic Optimization:** NumPy uses highly optimized linear algebra libraries (like BLAS and LAPACK) under the hood. These libraries often employ more advanced algorithms (e.g., Strassen's algorithm for very large matrices) than the standard triple-loop approach.\n"
      ],
      "metadata": {
        "id": "aeYtQPjVKFQ7"
      }
    },
    {
      "cell_type": "markdown",
      "source": [
        "### Question 3\n",
        "\n",
        "**Question:** Finding the highest element in a list requires one pass of the array. Finding the second highest element requires 2 passes of the array. Using this method, what is the time complexity of finding the median of the array? Can you suggest a better method? Can you implement both these methods in Python and compare against `numpy.median` routine in terms of time?\n",
        "\n",
        "**Answer:**\n",
        "\n",
        "**Time Complexity of the Naive Method**\n",
        "\n",
        "The proposed method is as follows:\n",
        "1.  Find the largest element (1 pass).\n",
        "2.  Find the second largest element (another pass, ignoring the first largest).\n",
        "3.  ... and so on.\n",
        "\n",
        "Let the number of elements in the array be `N`. The median is the element at position `N/2` (for simplicity) in a sorted list. To find this element using the proposed method, we would need to find and discard the `N/2` largest elements.\n",
        "\n",
        "*   Finding the 1st largest: `N` comparisons.\n",
        "*   Finding the 2nd largest: `N-1` comparisons.\n",
        "*   ...\n",
        "*   Finding the k-th largest: `N-k+1` comparisons.\n",
        "\n",
        "To find the median, we need to perform roughly `N/2` such passes. The complexity would be the sum of an arithmetic series: `N + (N-1) + (N-2) + ... + (N - N/2)`. This is approximately `(N/2) * N`, which gives a time complexity of **O(N²)**. This is very inefficient for large arrays.\n",
        "\n",
        "**A Better Method**\n",
        "\n",
        "A much better and more standard method is to **sort the array first**.\n",
        "\n",
        "1.  **Sort the array:** The most common comparison-based sorting algorithms (like Timsort, used by Python, or Mergesort) have a time complexity of **O(N log N)**.\n",
        "2.  **Find the middle element:** Once the array is sorted, finding the median is an O(1) operation.\n",
        "    *   If `N` is odd, the median is the element at index `N // 2`.\n",
        "    *   If `N` is even, the median is the average of elements at indices `(N // 2) - 1` and `N // 2`.\n",
        "\n",
        "The dominant part of this process is sorting, so the overall time complexity is **O(N log N)**.\n"
      ],
      "metadata": {
        "id": "8Sau-iy-KGZ2"
      }
    },
    {
      "cell_type": "code",
      "source": [
        "\n",
        "import numpy as np\n",
        "import time\n",
        "\n",
        "# Method 1: Naive O(N^2) approach\n",
        "def find_median_naive(arr):\n",
        "    # This is a conceptual implementation. A real one would be more complex.\n",
        "    # We simulate the N^2 complexity by sorting using a simple selection sort logic.\n",
        "    # We find the smallest element N/2 times.\n",
        "    local_arr = list(arr)\n",
        "    n = len(local_arr)\n",
        "    mid = n // 2\n",
        "\n",
        "    for i in range(mid + 1):\n",
        "        min_idx = i\n",
        "        for j in range(i + 1, n):\n",
        "            if local_arr[j] < local_arr[min_idx]:\n",
        "                min_idx = j\n",
        "        local_arr[i], local_arr[min_idx] = local_arr[min_idx], local_arr[i]\n",
        "\n",
        "    if n % 2 == 1:\n",
        "        return local_arr[mid]\n",
        "    else:\n",
        "        return (local_arr[mid - 1] + local_arr[mid]) / 2\n",
        "\n",
        "# Method 2: Better O(N log N) approach\n",
        "def find_median_sorting(arr):\n",
        "    sorted_arr = sorted(arr)\n",
        "    n = len(sorted_arr)\n",
        "    mid = n // 2\n",
        "    if n % 2 == 1:\n",
        "        return sorted_arr[mid]\n",
        "    else:\n",
        "        return (sorted_arr[mid - 1] + sorted_arr[mid]) / 2\n",
        "\n",
        "# --- Comparison ---\n",
        "# Create a large random array\n",
        "N = 10000\n",
        "random_array = np.random.rand(N)\n",
        "random_list = list(random_array)\n",
        "\n",
        "# Time the naive method\n",
        "start_time = time.time()\n",
        "median_naive = find_median_naive(random_list)\n",
        "duration_naive = time.time() - start_time\n",
        "print(f\"Naive Method (O(N^2) simulation):\")\n",
        "print(f\"  - Median: {median_naive}\")\n",
        "print(f\"  - Time taken: {duration_naive:.6f} seconds\\n\")\n",
        "\n",
        "\n",
        "# Time the sorting-based method\n",
        "start_time = time.time()\n",
        "median_sorting = find_median_sorting(random_list)\n",
        "duration_sorting = time.time() - start_time\n",
        "print(f\"Sorting Method (O(N log N)):\")\n",
        "print(f\"  - Median: {median_sorting}\")\n",
        "print(f\"  - Time taken: {duration_sorting:.6f} seconds\\n\")\n",
        "\n",
        "# Time the NumPy method\n",
        "start_time = time.time()\n",
        "median_numpy = np.median(random_array)\n",
        "duration_numpy = time.time() - start_time\n",
        "print(f\"NumPy Method (highly optimized):\")\n",
        "print(f\"  - Median: {median_numpy}\")\n",
        "print(f\"  - Time taken: {duration_numpy:.6f} seconds\\n\")"
      ],
      "metadata": {
        "colab": {
          "base_uri": "https://localhost:8080/"
        },
        "id": "457h3rbkKsDC",
        "outputId": "f737e463-b276-4b13-f721-65698429d9b3"
      },
      "execution_count": 5,
      "outputs": [
        {
          "output_type": "stream",
          "name": "stdout",
          "text": [
            "Naive Method (O(N^2) simulation):\n",
            "  - Median: 0.49788298967713723\n",
            "  - Time taken: 3.156100 seconds\n",
            "\n",
            "Sorting Method (O(N log N)):\n",
            "  - Median: 0.49788298967713723\n",
            "  - Time taken: 0.003931 seconds\n",
            "\n",
            "NumPy Method (highly optimized):\n",
            "  - Median: 0.49788298967713723\n",
            "  - Time taken: 0.006124 seconds\n",
            "\n"
          ]
        }
      ]
    },
    {
      "cell_type": "markdown",
      "source": [
        "\n",
        "### 4. **Question:** What is the gradient of the following function with respect to x and y?\n",
        "$$ f(x, y) = x^2y + y^3\\sin(x) $$\n",
        "\n",
        "\n",
        "\n",
        "**Answer:**\n",
        "\n",
        "The gradient of a multivariable function `f(x, y)`, denoted as `∇f`, is a vector of its partial derivatives:\n",
        "$$ \\nabla f(x, y) = \\left[ \\frac{\\partial f}{\\partial x}, \\frac{\\partial f}{\\partial y} \\right] $$\n",
        "\n",
        "Let's calculate each partial derivative.\n",
        "\n",
        "**1. Partial derivative with respect to x (∂f/∂x):**\n",
        "We treat `y` as a constant.\n",
        "$$ \\frac{\\partial f}{\\partial x} = \\frac{\\partial}{\\partial x} (x^2y + y^3\\sin(x)) $$\n",
        "$$ \\frac{\\partial f}{\\partial x} = \\frac{\\partial}{\\partial x} (x^2y) + \\frac{\\partial}{\\partial x} (y^3\\sin(x)) $$\n",
        "$$ \\frac{\\partial f}{\\partial x} = y \\cdot (2x) + y^3 \\cdot (\\cos(x)) $$\n",
        "$$ \\frac{\\partial f}{\\partial x} = 2xy + y^3\\cos(x) $$\n",
        "\n",
        "**2. Partial derivative with respect to y (∂f/∂y):**\n",
        "We treat `x` as a constant.\n",
        "$$ \\frac{\\partial f}{\\partial y} = \\frac{\\partial}{\\partial y} (x^2y + y^3\\sin(x)) $$\n",
        "$$ \\frac{\\partial f}{\\partial y} = \\frac{\\partial}{\\partial y} (x^2y) + \\frac{\\partial}{\\partial y} (y^3\\sin(x)) $$\n",
        "$$ \\frac{\\partial f}{\\partial y} = x^2 \\cdot (1) + \\sin(x) \\cdot (3y^2) $$\n",
        "$$ \\frac{\\partial f}{\\partial y} = x^2 + 3y^2\\sin(x) $$\n",
        "\n",
        "\n",
        "Combining these results, the gradient of `f(x, y)` is:\n",
        "$$ \\nabla f(x, y) = [ 2xy + y^3\\cos(x), \\quad x^2 + 3y^2\\sin(x) ] $$\n"
      ],
      "metadata": {
        "id": "SqFhQd2WLCGd"
      }
    },
    {
      "cell_type": "markdown",
      "source": [
        "### 5. Use JAX to confirm the gradient evaluated by your method matches the analytical solution corresponding to a few random values of x and y\n",
        "\n",
        "\n",
        "**Answer:**\n",
        "\n",
        "We will use Google's JAX library, which is designed for high-performance numerical computing and machine learning research, including automatic differentiation.\n"
      ],
      "metadata": {
        "id": "iBXK5CV3LUMM"
      }
    },
    {
      "cell_type": "code",
      "source": [
        "\n",
        "import jax\n",
        "import jax.numpy as jnp\n",
        "import numpy as np\n",
        "\n",
        "# Define the function using JAX's numpy\n",
        "def f(x, y):\n",
        "    return x**2 * y + y**3 * jnp.sin(x)\n",
        "\n",
        "# Create the gradient function using jax.grad\n",
        "# argnums=(0, 1) specifies that we want the gradient with respect to both x and y\n",
        "grad_f_jax = jax.grad(f, argnums=(0, 1))\n",
        "\n",
        "# Define our analytical gradient function from Question 4\n",
        "def analytical_gradient(x, y):\n",
        "    df_dx = 2 * x * y + y**3 * np.cos(x)\n",
        "    df_dy = x**2 + 3 * y**2 * np.sin(x)\n",
        "    return df_dx, df_dy\n",
        "\n",
        "# Generate a few random values for x and y\n",
        "np.random.seed(42) # for reproducibility\n",
        "random_values = [(np.random.rand(), np.random.rand()) for _ in range(3)]\n",
        "random_values.append((2.0, 1.5)) # Add some non-random values for clarity\n",
        "\n",
        "print(\"Comparing JAX gradient with Analytical Gradient:\\n\")\n",
        "\n",
        "for i, (x_val, y_val) in enumerate(random_values):\n",
        "    # Ensure values are float32, as JAX often defaults to this\n",
        "    x_val, y_val = np.float32(x_val), np.float32(y_val)\n",
        "\n",
        "    # Calculate gradient using JAX\n",
        "    jax_grad = grad_f_jax(x_val, y_val)\n",
        "\n",
        "    # Calculate gradient using our analytical formula\n",
        "    analytical_grad = analytical_gradient(x_val, y_val)\n",
        "\n",
        "    print(f\"--- Test Case {i+1}: x = {x_val:.4f}, y = {y_val:.4f} ---\")\n",
        "    print(f\"JAX Gradient (df/dx, df/dy):      ({jax_grad[0]:.6f}, {jax_grad[1]:.6f})\")\n",
        "    print(f\"Analytical Gradient (df/dx, df/dy): ({analytical_grad[0]:.6f}, {analytical_grad[1]:.6f})\")\n",
        "\n",
        "    # Confirm they are numerically very close\n",
        "    assert np.allclose(jax_grad, analytical_grad)\n",
        "    print(\"Results match!\\n\")"
      ],
      "metadata": {
        "colab": {
          "base_uri": "https://localhost:8080/"
        },
        "id": "du9makdTLE4Q",
        "outputId": "0b2fcfe5-c752-4264-fd9a-f98b66d41611"
      },
      "execution_count": 7,
      "outputs": [
        {
          "output_type": "stream",
          "name": "stdout",
          "text": [
            "Comparing JAX gradient with Analytical Gradient:\n",
            "\n",
            "--- Test Case 1: x = 0.3745, y = 0.9507 ---\n",
            "JAX Gradient (df/dx, df/dy):      (1.511901, 1.132295)\n",
            "Analytical Gradient (df/dx, df/dy): (1.511901, 1.132295)\n",
            "Results match!\n",
            "\n",
            "--- Test Case 2: x = 0.7320, y = 0.5987 ---\n",
            "JAX Gradient (df/dx, df/dy):      (1.036024, 1.254413)\n",
            "Analytical Gradient (df/dx, df/dy): (1.036024, 1.254413)\n",
            "Results match!\n",
            "\n",
            "--- Test Case 3: x = 0.1560, y = 0.1560 ---\n",
            "JAX Gradient (df/dx, df/dy):      (0.052426, 0.035685)\n",
            "Analytical Gradient (df/dx, df/dy): (0.052426, 0.035685)\n",
            "Results match!\n",
            "\n",
            "--- Test Case 4: x = 2.0000, y = 1.5000 ---\n",
            "JAX Gradient (df/dx, df/dy):      (4.595504, 10.137757)\n",
            "Analytical Gradient (df/dx, df/dy): (4.595505, 10.137757)\n",
            "Results match!\n",
            "\n"
          ]
        }
      ]
    },
    {
      "cell_type": "markdown",
      "source": [
        "\n",
        "### 6.  Use `sympy` to confirm that you obtain the same gradient analytically.\n",
        "\n"
      ],
      "metadata": {
        "id": "kE86Hd7VLcqp"
      }
    },
    {
      "cell_type": "code",
      "source": [
        "# Define symbolic variables\n",
        "x, y = sympy.symbols('x y')\n",
        "\n",
        "# Define the function as a symbolic expression\n",
        "f_sympy = x**2 * y + y**3 * sympy.sin(x)\n",
        "\n",
        "# Create a Matrix for the function and a Matrix for the variables\n",
        "f_matrix = sympy.Matrix([f_sympy])\n",
        "vars_matrix = sympy.Matrix([x, y])\n",
        "\n",
        "# Compute the Jacobian, which for a scalar function is the gradient\n",
        "grad_f_sympy = f_matrix.jacobian(vars_matrix)\n",
        "\n",
        "print(\"Symbolic function f(x, y):\")\n",
        "display(f_sympy)\n",
        "\n",
        "print(\"\\nSymbolically computed gradient ∇f(x, y):\")\n",
        "display(grad_f_sympy)"
      ],
      "metadata": {
        "colab": {
          "base_uri": "https://localhost:8080/",
          "height": 112
        },
        "id": "a3NNxthSLcRK",
        "outputId": "418979ed-77f6-4e29-881c-f7ae410d1b56"
      },
      "execution_count": 21,
      "outputs": [
        {
          "output_type": "stream",
          "name": "stdout",
          "text": [
            "Symbolic function f(x, y):\n"
          ]
        },
        {
          "output_type": "display_data",
          "data": {
            "text/plain": [
              " 2      3       \n",
              "x ⋅y + y ⋅sin(x)"
            ],
            "text/latex": "$\\displaystyle x^{2} y + y^{3} \\sin{\\left(x \\right)}$"
          },
          "metadata": {}
        },
        {
          "output_type": "stream",
          "name": "stdout",
          "text": [
            "\n",
            "Symbolically computed gradient ∇f(x, y):\n"
          ]
        },
        {
          "output_type": "display_data",
          "data": {
            "text/plain": [
              "⎡         3          2      2       ⎤\n",
              "⎣2⋅x⋅y + y ⋅cos(x)  x  + 3⋅y ⋅sin(x)⎦"
            ],
            "text/latex": "$\\displaystyle \\left[\\begin{matrix}2 x y + y^{3} \\cos{\\left(x \\right)} & x^{2} + 3 y^{2} \\sin{\\left(x \\right)}\\end{matrix}\\right]$"
          },
          "metadata": {}
        }
      ]
    },
    {
      "cell_type": "markdown",
      "source": [
        "\n",
        "### **Question 7:**\n",
        "\n",
        " Create a Python nested dictionary to represent hierarchical information. We want to store record of students and their marks. Something like:\n",
        "\n",
        "\n",
        "**Answer:**"
      ],
      "metadata": {
        "id": "6th0NEpbLwZo"
      }
    },
    {
      "cell_type": "code",
      "source": [
        "\n",
        "import pprint\n",
        "\n",
        "# The main database dictionary\n",
        "student_database = {\n",
        "    2022: {\n",
        "        \"Branch 1\": [\n",
        "            {\n",
        "                \"Roll Number\": 1,\n",
        "                \"Name\": \"Alice\",\n",
        "                \"Marks\": {\n",
        "                    \"Maths\": 95,\n",
        "                    \"English\": 88,\n",
        "                    \"Science\": 92\n",
        "                }\n",
        "            },\n",
        "            {\n",
        "                \"Roll Number\": 2,\n",
        "                \"Name\": \"Bob\",\n",
        "                \"Marks\": {\n",
        "                    \"Maths\": 78,\n",
        "                    \"English\": 82,\n",
        "                    \"Science\": 80\n",
        "                }\n",
        "            }\n",
        "        ],\n",
        "        \"Branch 2\": [\n",
        "            {\n",
        "                \"Roll Number\": 1,\n",
        "                \"Name\": \"Charlie\",\n",
        "                \"Marks\": {\n",
        "                    \"Maths\": 99,\n",
        "                    \"English\": 91,\n",
        "                    \"Computer Science\": 100\n",
        "                }\n",
        "            }\n",
        "        ]\n",
        "    },\n",
        "    2023: {\n",
        "        \"Branch 1\": [\n",
        "            {\n",
        "                \"Roll Number\": 1,\n",
        "                \"Name\": \"David\",\n",
        "                \"Marks\": {\n",
        "                    \"Maths\": 85,\n",
        "                    \"English\": 90,\n",
        "                    \"Science\": 88\n",
        "                }\n",
        "            }\n",
        "        ],\n",
        "        \"Branch 2\": [\n",
        "            {\n",
        "                \"Roll Number\": 1,\n",
        "                \"Name\": \"Eve\",\n",
        "                \"Marks\": {\n",
        "                    \"Maths\": 91,\n",
        "                    \"English\": 84,\n",
        "                    \"Computer Science\": 95\n",
        "                }\n",
        "            },\n",
        "            {\n",
        "                \"Roll Number\": 2,\n",
        "                \"Name\": \"Frank\",\n",
        "                \"Marks\": {\n",
        "                    \"Maths\": 68,\n",
        "                    \"English\": 75,\n",
        "                    \"Computer Science\": 72\n",
        "                }\n",
        "            }\n",
        "        ]\n",
        "    },\n",
        "    2024: {\n",
        "                \"Branch 1\": [\n",
        "            {\n",
        "                \"Roll Number\": 1,\n",
        "                \"Name\": \"David\",\n",
        "                \"Marks\": {\n",
        "                    \"Maths\": 85,\n",
        "                    \"English\": 90,\n",
        "                    \"Science\": 88\n",
        "                }\n",
        "            }\n",
        "        ],\n",
        "        \"Branch 2\": [\n",
        "            {\n",
        "                \"Roll Number\": 1,\n",
        "                \"Name\": \"Eve\",\n",
        "                \"Marks\": {\n",
        "                    \"Maths\": 91,\n",
        "                    \"English\": 84,\n",
        "                    \"Computer Science\": 95\n",
        "                }\n",
        "            },\n",
        "            {\n",
        "                \"Roll Number\": 2,\n",
        "                \"Name\": \"Frank\",\n",
        "                \"Marks\": {\n",
        "                    \"Maths\": 68,\n",
        "                    \"English\": 75,\n",
        "                    \"Computer Science\": 72\n",
        "                }\n",
        "            }\n",
        "        ]\n",
        "    },\n",
        "    2025: {\n",
        "                \"Branch 1\": [\n",
        "            {\n",
        "                \"Roll Number\": 1,\n",
        "                \"Name\": \"David\",\n",
        "                \"Marks\": {\n",
        "                    \"Maths\": 85,\n",
        "                    \"English\": 90,\n",
        "                    \"Science\": 88\n",
        "                }\n",
        "            }\n",
        "        ],\n",
        "        \"Branch 2\": [\n",
        "            {\n",
        "                \"Roll Number\": 1,\n",
        "                \"Name\": \"Eve\",\n",
        "                \"Marks\": {\n",
        "                    \"Maths\": 91,\n",
        "                    \"English\": 84,\n",
        "                    \"Computer Science\": 95\n",
        "                }\n",
        "            },\n",
        "            {\n",
        "                \"Roll Number\": 2,\n",
        "                \"Name\": \"Frank\",\n",
        "                \"Marks\": {\n",
        "                    \"Maths\": 68,\n",
        "                    \"English\": 75,\n",
        "                    \"Computer Science\": 72\n",
        "                }\n",
        "            }\n",
        "        ]\n",
        "\n",
        "    }\n",
        "}\n",
        "\n",
        "# Use pprint for a more readable output\n",
        "print(\"Hierarchical Student Database:\")\n",
        "pprint.pprint(student_database)\n",
        "\n",
        "# Example of accessing a specific piece of information:\n",
        "# Get Bob's marks from 2022, Branch 1\n",
        "bobs_marks = student_database[2022][\"Branch 1\"][1][\"Marks\"]\n",
        "print(\"\\nExample Access: Bob's marks in 2022 are:\", bobs_marks)"
      ],
      "metadata": {
        "colab": {
          "base_uri": "https://localhost:8080/"
        },
        "id": "uCn7b5DCLwDI",
        "outputId": "678e5fdd-f190-4b49-983f-4007e0d4e9cf"
      },
      "execution_count": 15,
      "outputs": [
        {
          "output_type": "stream",
          "name": "stdout",
          "text": [
            "Hierarchical Student Database:\n",
            "{2022: {'Branch 1': [{'Marks': {'English': 88, 'Maths': 95, 'Science': 92},\n",
            "                      'Name': 'Alice',\n",
            "                      'Roll Number': 1},\n",
            "                     {'Marks': {'English': 82, 'Maths': 78, 'Science': 80},\n",
            "                      'Name': 'Bob',\n",
            "                      'Roll Number': 2}],\n",
            "        'Branch 2': [{'Marks': {'Computer Science': 100,\n",
            "                                'English': 91,\n",
            "                                'Maths': 99},\n",
            "                      'Name': 'Charlie',\n",
            "                      'Roll Number': 1}]},\n",
            " 2023: {'Branch 1': [{'Marks': {'English': 90, 'Maths': 85, 'Science': 88},\n",
            "                      'Name': 'David',\n",
            "                      'Roll Number': 1}],\n",
            "        'Branch 2': [{'Marks': {'Computer Science': 95,\n",
            "                                'English': 84,\n",
            "                                'Maths': 91},\n",
            "                      'Name': 'Eve',\n",
            "                      'Roll Number': 1},\n",
            "                     {'Marks': {'Computer Science': 72,\n",
            "                                'English': 75,\n",
            "                                'Maths': 68},\n",
            "                      'Name': 'Frank',\n",
            "                      'Roll Number': 2}]},\n",
            " 2024: {'Branch 1': [{'Marks': {'English': 90, 'Maths': 85, 'Science': 88},\n",
            "                      'Name': 'David',\n",
            "                      'Roll Number': 1}],\n",
            "        'Branch 2': [{'Marks': {'Computer Science': 95,\n",
            "                                'English': 84,\n",
            "                                'Maths': 91},\n",
            "                      'Name': 'Eve',\n",
            "                      'Roll Number': 1},\n",
            "                     {'Marks': {'Computer Science': 72,\n",
            "                                'English': 75,\n",
            "                                'Maths': 68},\n",
            "                      'Name': 'Frank',\n",
            "                      'Roll Number': 2}]},\n",
            " 2025: {'Branch 1': [{'Marks': {'English': 90, 'Maths': 85, 'Science': 88},\n",
            "                      'Name': 'David',\n",
            "                      'Roll Number': 1}],\n",
            "        'Branch 2': [{'Marks': {'Computer Science': 95,\n",
            "                                'English': 84,\n",
            "                                'Maths': 91},\n",
            "                      'Name': 'Eve',\n",
            "                      'Roll Number': 1},\n",
            "                     {'Marks': {'Computer Science': 72,\n",
            "                                'English': 75,\n",
            "                                'Maths': 68},\n",
            "                      'Name': 'Frank',\n",
            "                      'Roll Number': 2}]}}\n",
            "\n",
            "Example Access: Bob's marks in 2022 are: {'Maths': 78, 'English': 82, 'Science': 80}\n"
          ]
        }
      ]
    },
    {
      "cell_type": "markdown",
      "source": [
        "## **Question 8:**\n",
        "Store the same information using Python classes. We have an overall database which is a list of year objects. Each year contains a list of branches. Each branch contains a list of students. Each student has some properties like name, roll number and has marks in some list of subjects."
      ],
      "metadata": {
        "id": "qxz5u1YJP_xM"
      }
    },
    {
      "cell_type": "code",
      "source": [
        "class Student:\n",
        "    \"\"\"Represents a single student with their properties.\"\"\"\n",
        "    def __init__(self, roll_number, name, marks):\n",
        "        self.roll_number = roll_number\n",
        "        self.name = name\n",
        "        # Marks are stored as a dictionary, e.g., {'Maths': 95, 'Science': 88}\n",
        "        self.marks = marks\n",
        "\n",
        "    def __repr__(self):\n",
        "        return f\"Student(Roll: {self.roll_number}, Name: '{self.name}')\"\n",
        "\n",
        "class Branch:\n",
        "    \"\"\"Represents a branch which contains a list of students.\"\"\"\n",
        "    def __init__(self, name):\n",
        "        self.name = name\n",
        "        self.students = [] # A list to hold Student objects\n",
        "\n",
        "    def add_student(self, student):\n",
        "        \"\"\"Adds a Student object to the branch.\"\"\"\n",
        "        if isinstance(student, Student):\n",
        "            self.students.append(student)\n",
        "        else:\n",
        "            print(\"Error: Only Student objects can be added.\")\n",
        "\n",
        "    def __repr__(self):\n",
        "        return f\"Branch(Name: '{self.name}', Students: {len(self.students)})\"\n",
        "\n",
        "class Year:\n",
        "    \"\"\"Represents a year which contains a list of branches.\"\"\"\n",
        "    def __init__(self, year_value):\n",
        "        self.year_value = year_value\n",
        "        self.branches = [] # A list to hold Branch objects\n",
        "\n",
        "    def add_branch(self, branch):\n",
        "        \"\"\"Adds a Branch object to the year.\"\"\"\n",
        "        if isinstance(branch, Branch):\n",
        "            self.branches.append(branch)\n",
        "        else:\n",
        "            print(\"Error: Only Branch objects can be added.\")\n",
        "\n",
        "    def __repr__(self):\n",
        "        return f\"Year(Year: {self.year_value}, Branches: {len(self.branches)})\""
      ],
      "metadata": {
        "id": "1655peoZOzNl"
      },
      "execution_count": 17,
      "outputs": []
    },
    {
      "cell_type": "code",
      "source": [
        "# --- Create Student Objects ---\n",
        "student1 = Student(roll_number=1, name='Alice', marks={'Maths': 95, 'English': 88})\n",
        "student2 = Student(roll_number=2, name='Bob', marks={'Maths': 78, 'English': 92})\n",
        "student3 = Student(roll_number=1, name='Charlie', marks={'Physics': 85, 'Chemistry': 91})\n",
        "\n",
        "# --- Create Branch Objects and Add Students ---\n",
        "branch1_2023 = Branch(name='Computer Science')\n",
        "branch1_2023.add_student(student1)\n",
        "branch1_2023.add_student(student2)\n",
        "\n",
        "branch2_2023 = Branch(name='Mechanical')\n",
        "branch2_2023.add_student(student3)\n",
        "\n",
        "# --- Create Year Objects and Add Branches ---\n",
        "year_2023 = Year(year_value=2023)\n",
        "year_2023.add_branch(branch1_2023)\n",
        "year_2023.add_branch(branch2_2023)\n",
        "\n",
        "# --- The Overall Database is a list of Year objects ---\n",
        "database = [year_2023]\n",
        "\n",
        "\n",
        "# --- Accessing the data ---\n",
        "print(f\"Complete Database: {database}\\n\")\n",
        "\n"
      ],
      "metadata": {
        "colab": {
          "base_uri": "https://localhost:8080/"
        },
        "id": "rGyKpaEXPEi0",
        "outputId": "1735f7eb-60ba-4db1-d655-ce73b6a1cf26"
      },
      "execution_count": 22,
      "outputs": [
        {
          "output_type": "stream",
          "name": "stdout",
          "text": [
            "Complete Database: [Year(Year: 2023, Branches: 2)]\n",
            "\n"
          ]
        }
      ]
    },
    {
      "cell_type": "markdown",
      "source": [
        "\n",
        "### 9. Matplotlib Plotting\n",
        "\n",
        "**Question:** Using matplotlib plot the following functions on the domain: x = 0.5 to 100.0 in steps of 0.5.\n",
        "1. y = x\n",
        "2. y = x²\n",
        "3. y = x³/100\n",
        "4. y = sin(x)\n",
        "5. y = sin(x)/x\n",
        "6. y = log(x)\n",
        "7. y = eˣ\n",
        "\n",
        "**Answer:**\n"
      ],
      "metadata": {
        "id": "GVp5ro0-L6WL"
      }
    },
    {
      "cell_type": "code",
      "source": [
        "\n",
        "import matplotlib.pyplot as plt\n",
        "import numpy as np\n",
        "\n",
        "# Define the domain for x\n",
        "x = np.arange(0.5, 100.5, 0.5)\n",
        "\n",
        "# Calculate y values for each function\n",
        "y1 = x\n",
        "y2 = x**2\n",
        "y3 = (x**3) / 100\n",
        "y4 = np.sin(x)\n",
        "y5 = np.sin(x) / x\n",
        "y6 = np.log(x)\n",
        "y7 = np.exp(x)\n",
        "\n",
        "# Create a figure and a set of subplots\n",
        "# A 4x2 grid is suitable for 7 plots\n",
        "fig, axs = plt.subplots(4, 2, figsize=(12, 16))\n",
        "fig.suptitle('Plots of Various Functions from x=0.5 to 100.0', fontsize=16)\n",
        "\n",
        "# Flatten the axs array for easy iteration\n",
        "axs = axs.flatten()\n",
        "\n",
        "# List of titles and y-values\n",
        "titles = [\n",
        "    'y = x', 'y = x²', 'y = x³/100', 'y = sin(x)',\n",
        "    'y = sin(x)/x', 'y = log(x)', 'y = eˣ'\n",
        "]\n",
        "y_values = [y1, y2, y3, y4, y5, y6, y7]\n",
        "\n",
        "# Plot each function on a separate subplot\n",
        "for i, (title, y) in enumerate(zip(titles, y_values)):\n",
        "    axs[i].plot(x, y)\n",
        "    axs[i].set_title(title)\n",
        "    axs[i].set_xlabel('x')\n",
        "    axs[i].set_ylabel('y')\n",
        "    axs[i].grid(True)\n",
        "\n",
        "# The plot for y = e^x will have a very large y-range.\n",
        "# A log scale on the y-axis makes it more interpretable.\n",
        "axs[6].set_yscale('log')\n",
        "axs[6].set_title('y = eˣ (log scale on y-axis)')\n",
        "\n",
        "# Hide the last unused subplot\n",
        "axs[7].axis('off')\n",
        "\n",
        "# Adjust layout to prevent overlap\n",
        "plt.tight_layout(rect=[0, 0.03, 1, 0.95])\n",
        "plt.show()"
      ],
      "metadata": {
        "colab": {
          "base_uri": "https://localhost:8080/",
          "height": 1000
        },
        "id": "FVK73WE2L7JK",
        "outputId": "4b73ecd1-688c-48ce-bcb3-9758f898704d"
      },
      "execution_count": 10,
      "outputs": [
        {
          "output_type": "display_data",
          "data": {
            "text/plain": [
              "<Figure size 1200x1600 with 8 Axes>"
            ],
            "image/png": "[encoded data removed]"
          },
          "metadata": {}
        }
      ]
    },
    {
      "cell_type": "markdown",
      "source": [
        "\n",
        "### 10. NumPy and Pandas DataFrame Operations\n",
        "\n",
        "**Question:** Using numpy generate a matrix of size 20x5 containing random numbers drawn uniformly from the range of 1 to 2. Using Pandas create a dataframe out of this matrix. Name the columns of the dataframe as “a”, “b”, “c”, “d”, “e”. Find the column with the highest standard deviation. Find the row with the lowest mean.\n",
        "\n",
        "**Answer:**"
      ],
      "metadata": {
        "id": "TntCpLYSMBo2"
      }
    },
    {
      "cell_type": "code",
      "source": [
        "\n",
        "import numpy as np\n",
        "import pandas as pd\n",
        "\n",
        "# Set a seed for reproducibility\n",
        "np.random.seed(42)\n",
        "\n",
        "# 1. Generate a 20x5 matrix with random numbers from a uniform distribution [1, 2)\n",
        "matrix = np.random.uniform(low=1.0, high=2.0, size=(20, 5))\n",
        "\n",
        "# 2. Create a Pandas DataFrame\n",
        "column_names = ['a', 'b', 'c', 'd', 'e']\n",
        "df = pd.DataFrame(matrix, columns=column_names)\n",
        "\n",
        "print(\"--- Generated DataFrame (first 5 rows) ---\")\n",
        "print(df.head())\n",
        "print(\"\\n\" + \"=\"*50 + \"\\n\")\n",
        "\n",
        "# 3. Find the column with the highest standard deviation\n",
        "# Calculate std for each column\n",
        "column_std = df.std()\n",
        "# Find the column name (index) corresponding to the max std value\n",
        "col_highest_std = column_std.idxmax()\n",
        "highest_std_value = column_std.max()\n",
        "\n",
        "print(\"--- Column Standard Deviations ---\")\n",
        "print(column_std)\n",
        "print(f\"\\nColumn with the highest standard deviation: '{col_highest_std}' (Value: {highest_std_value:.4f})\")\n",
        "print(\"\\n\" + \"=\"*50 + \"\\n\")\n",
        "\n",
        "\n",
        "# 4. Find the row with the lowest mean\n",
        "# Calculate mean for each row (axis=1)\n",
        "row_mean = df.mean(axis=1)\n",
        "# Find the row index corresponding to the min mean value\n",
        "row_lowest_mean_index = row_mean.idxmin()\n",
        "lowest_mean_value = row_mean.min()\n",
        "\n",
        "print(\"--- Row Means (first 5 rows) ---\")\n",
        "print(row_mean.head())\n",
        "print(f\"\\nRow with the lowest mean is at index: {row_lowest_mean_index} (Value: {lowest_mean_value:.4f})\")\n",
        "print(\"\\nThe actual row data is:\")\n",
        "print(df.loc[row_lowest_mean_index])"
      ],
      "metadata": {
        "colab": {
          "base_uri": "https://localhost:8080/"
        },
        "id": "pD5_S1SRMCT8",
        "outputId": "da183fea-37b0-4826-c97c-d3b05b03f0ec"
      },
      "execution_count": 11,
      "outputs": [
        {
          "output_type": "stream",
          "name": "stdout",
          "text": [
            "--- Generated DataFrame (first 5 rows) ---\n",
            "          a         b         c         d         e\n",
            "0  1.374540  1.950714  1.731994  1.598658  1.156019\n",
            "1  1.155995  1.058084  1.866176  1.601115  1.708073\n",
            "2  1.020584  1.969910  1.832443  1.212339  1.181825\n",
            "3  1.183405  1.304242  1.524756  1.431945  1.291229\n",
            "4  1.611853  1.139494  1.292145  1.366362  1.456070\n",
            "\n",
            "==================================================\n",
            "\n",
            "--- Column Standard Deviations ---\n",
            "a    0.296459\n",
            "b    0.297794\n",
            "c    0.318628\n",
            "d    0.307113\n",
            "e    0.284463\n",
            "dtype: float64\n",
            "\n",
            "Column with the highest standard deviation: 'c' (Value: 0.3186)\n",
            "\n",
            "==================================================\n",
            "\n",
            "--- Row Means (first 5 rows) ---\n",
            "0    1.562385\n",
            "1    1.477888\n",
            "2    1.443420\n",
            "3    1.347115\n",
            "4    1.373185\n",
            "dtype: float64\n",
            "\n",
            "Row with the lowest mean is at index: 11 (Value: 1.3154)\n",
            "\n",
            "The actual row data is:\n",
            "a    1.921874\n",
            "b    1.088493\n",
            "c    1.195983\n",
            "d    1.045227\n",
            "e    1.325330\n",
            "Name: 11, dtype: float64\n"
          ]
        }
      ]
    },
    {
      "cell_type": "markdown",
      "source": [
        "\n",
        "### **Question 11**\n",
        "\n",
        "Add a new column to the dataframe called “f” which is the sum of the columns “a”, “b”, “c”, “d”, “e”. Create another column called “g” such that if the value in the column “f” is less than 8, then the value in “g” is “LT8”, otherwise it is “GT8”. Find the number of rows in the dataframe where the value in the column “g” is “LT8” and “GT8” respectively. Find the standard deviation of the column “f” for the rows where the value in “g” is “LT8” and “GT8” respectively.\n",
        "\n"
      ],
      "metadata": {
        "id": "cIy_7tFRMGW8"
      }
    },
    {
      "cell_type": "code",
      "source": [
        "\n",
        "# We continue with the DataFrame 'df' from the previous question.\n",
        "\n",
        "# 1. Add a new column 'f' which is the sum of the other columns\n",
        "df['f'] = df[['a', 'b', 'c', 'd', 'e']].sum(axis=1)\n",
        "\n",
        "# 2. Add a new column 'g' based on the condition on 'f'\n",
        "# We use np.where for an efficient conditional assignment\n",
        "df['g'] = np.where(df['f'] < 8, 'LT8', 'GT8')\n",
        "\n",
        "print(\"--- DataFrame with new columns 'f' and 'g' (first 5 rows) ---\")\n",
        "print(df.head())\n",
        "print(\"\\n\" + \"=\"*50 + \"\\n\")\n",
        "\n",
        "# 3. Find the number of rows for 'LT8' and 'GT8'\n",
        "# The value_counts() method is perfect for this\n",
        "g_counts = df['g'].value_counts()\n",
        "\n",
        "print(\"--- Row Counts for Column 'g' ---\")\n",
        "print(g_counts)\n",
        "# You can also access them individually\n",
        "num_lt8 = g_counts.get('LT8', 0)\n",
        "num_gt8 = g_counts.get('GT8', 0)\n",
        "print(f\"\\nNumber of rows where g is 'LT8': {num_lt8}\")\n",
        "print(f\"Number of rows where g is 'GT8': {num_gt8}\")\n",
        "print(\"\\n\" + \"=\"*50 + \"\\n\")\n",
        "\n",
        "# 4. Find the standard deviation of 'f' for each group in 'g'\n",
        "# We can use groupby() for this calculation\n",
        "std_dev_by_g = df.groupby('g')['f'].std()\n",
        "\n",
        "print(\"--- Standard Deviation of 'f' grouped by 'g' ---\")\n",
        "print(std_dev_by_g)\n",
        "# You can also access them individually\n",
        "std_dev_lt8 = std_dev_by_g.get('LT8', float('nan')) # Use nan if group doesn't exist\n",
        "std_dev_gt8 = std_dev_by_g.get('GT8', float('nan'))\n",
        "print(f\"\\nStandard deviation of 'f' for 'LT8' rows: {std_dev_lt8:.4f}\")\n",
        "print(f\"Standard deviation of 'f' for 'GT8' rows: {std_dev_gt8:.4f}\")"
      ],
      "metadata": {
        "colab": {
          "base_uri": "https://localhost:8080/"
        },
        "id": "9T71bBjSMJMy",
        "outputId": "9b720dd2-e95b-45e4-c692-f9e19ff5ddba"
      },
      "execution_count": 12,
      "outputs": [
        {
          "output_type": "stream",
          "name": "stdout",
          "text": [
            "--- DataFrame with new columns 'f' and 'g' (first 5 rows) ---\n",
            "          a         b         c         d         e         f    g\n",
            "0  1.374540  1.950714  1.731994  1.598658  1.156019  7.811925  LT8\n",
            "1  1.155995  1.058084  1.866176  1.601115  1.708073  7.389442  LT8\n",
            "2  1.020584  1.969910  1.832443  1.212339  1.181825  7.217101  LT8\n",
            "3  1.183405  1.304242  1.524756  1.431945  1.291229  6.735577  LT8\n",
            "4  1.611853  1.139494  1.292145  1.366362  1.456070  6.865923  LT8\n",
            "\n",
            "==================================================\n",
            "\n",
            "--- Row Counts for Column 'g' ---\n",
            "g\n",
            "LT8    18\n",
            "GT8     2\n",
            "Name: count, dtype: int64\n",
            "\n",
            "Number of rows where g is 'LT8': 18\n",
            "Number of rows where g is 'GT8': 2\n",
            "\n",
            "==================================================\n",
            "\n",
            "--- Standard Deviation of 'f' grouped by 'g' ---\n",
            "g\n",
            "GT8    0.795615\n",
            "LT8    0.402589\n",
            "Name: f, dtype: float64\n",
            "\n",
            "Standard deviation of 'f' for 'LT8' rows: 0.4026\n",
            "Standard deviation of 'f' for 'GT8' rows: 0.7956\n"
          ]
        }
      ]
    },
    {
      "cell_type": "markdown",
      "source": [
        "\n",
        "### **Question 12.** Write a small piece of code to explain broadcasting in numpy.\n",
        "\n",
        "\n",
        "\n",
        "**Answer:**\n",
        "\n",
        "Broadcasting is a powerful mechanism in NumPy that allows arithmetic operations to be performed on arrays of different shapes. Instead of creating explicit copies of data to make shapes compatible, NumPy performs the operation by virtually \"stretching\" or \"broadcasting\" the smaller array to match the shape of the larger array.\n",
        "\n",
        "The rules of broadcasting are:\n",
        "1.  **Rule 1:** If the two arrays differ in their number of dimensions, the shape of the one with fewer dimensions is padded with ones on its leading (left) side.\n",
        "2.  **Rule 2:** If the shape of the two arrays does not match in any dimension, the array with shape equal to 1 in that dimension is stretched to match the other shape.\n",
        "3.  **Rule 3:** If in any dimension the sizes disagree and neither is equal to 1, an error is raised."
      ],
      "metadata": {
        "id": "vQ3GfGkeMPM7"
      }
    },
    {
      "cell_type": "code",
      "source": [
        "\n",
        "import numpy as np\n",
        "\n",
        "# A 3x3 matrix\n",
        "matrix = np.array([[1, 2, 3],\n",
        "                   [4, 5, 6],\n",
        "                   [7, 8, 9]])\n",
        "\n",
        "# A 1x3 vector\n",
        "vector = np.array([10, 20, 30])\n",
        "\n",
        "print(\"Matrix (Shape: {}):\\n{}\".format(matrix.shape, matrix))\n",
        "print(\"\\nVector (Shape: {}):\\n{}\".format(vector.shape, vector))\n",
        "\n",
        "# Add the vector to the matrix\n",
        "# NumPy will broadcast the vector across the rows of the matrix\n",
        "result = matrix + vector\n",
        "\n",
        "print(\"\\n--- Broadcasting in Action: matrix + vector ---\")\n",
        "print(\"Result (Shape: {}):\\n{}\".format(result.shape, result))"
      ],
      "metadata": {
        "colab": {
          "base_uri": "https://localhost:8080/"
        },
        "id": "FwQblbFMMO1D",
        "outputId": "148db43f-8709-42c5-ab1b-1f5e1faebe27"
      },
      "execution_count": 13,
      "outputs": [
        {
          "output_type": "stream",
          "name": "stdout",
          "text": [
            "Matrix (Shape: (3, 3)):\n",
            "[[1 2 3]\n",
            " [4 5 6]\n",
            " [7 8 9]]\n",
            "\n",
            "Vector (Shape: (3,)):\n",
            "[10 20 30]\n",
            "\n",
            "--- Broadcasting in Action: matrix + vector ---\n",
            "Result (Shape: (3, 3)):\n",
            "[[11 22 33]\n",
            " [14 25 36]\n",
            " [17 28 39]]\n"
          ]
        }
      ]
    },
    {
      "cell_type": "markdown",
      "source": [
        "\n",
        "\n",
        "**Explanation of the Example:**\n",
        "\n",
        "1.  `matrix` has shape `(3, 3)`.\n",
        "2.  `vector` has shape `(3,)`.\n",
        "\n",
        "Following the broadcasting rules:\n",
        "1.  **Rule 1:** NumPy sees that `vector` has fewer dimensions. It pads the shape on the left, making the `vector`'s shape `(1, 3)`.\n",
        "    *   `matrix.shape` -> `(3, 3)`\n",
        "    *   `vector.shape` -> `(1, 3)`\n",
        "2.  **Rule 2:** NumPy compares the dimensions.\n",
        "    *   **Axis 0 (rows):** `matrix` has 3, `vector` has 1. This is compatible. The vector is \"stretched\" to match the 3 rows.\n",
        "    *   **Axis 1 (columns):** `matrix` has 3, `vector` has 3. This is compatible.\n",
        "3.  The `vector` `[10, 20, 30]` is effectively treated as a `(3, 3)` matrix `[[10, 20, 30], [10, 20, 30], [10, 20, 30]]` for the purpose of the addition, but without the memory cost of actually creating this larger matrix."
      ],
      "metadata": {
        "id": "PUOyT1OLMXsd"
      }
    },
    {
      "cell_type": "markdown",
      "source": [
        "\n",
        "### **Question 13.** Write a function to compute the `argmin` of a numpy array. The function should take a numpy array as input and return the index of the minimum element. You can use the `np.argmin` function to verify your solution.\n",
        "\n",
        "\n",
        "\n",
        "**Answer:**\n",
        "\n",
        "The algorithm for a 1D array is a simple linear scan:\n",
        "\n",
        "    Initialize a variable min_value with the value of the first element of the array.\n",
        "\n",
        "    Initialize a variable min_index to 0.\n",
        "\n",
        "    Iterate through the array from the second element to the end.\n",
        "\n",
        "    For each element, compare it with min_value.\n",
        "\n",
        "    If the current element is smaller than min_value, update min_value with the current element's value and min_index with the current element's index.\n",
        "\n",
        "    After the loop finishes, min_index will hold the index of the first occurrence of the minimum value. Return min_index."
      ],
      "metadata": {
        "id": "WAA4zroBMb7t"
      }
    },
    {
      "cell_type": "code",
      "source": [
        "\n",
        "import numpy as np\n",
        "\n",
        "def custom_argmin(arr):\n",
        "    \"\"\"\n",
        "    Computes the index of the minimum element in a NumPy array.\n",
        "\n",
        "    Args:\n",
        "        arr (np.ndarray): The input array.\n",
        "\n",
        "    Returns:\n",
        "        int: The index of the minimum element. Returns None if the array is empty.\n",
        "    \"\"\"\n",
        "    # Handle the edge case of an empty array\n",
        "    if arr.size == 0:\n",
        "        return None\n",
        "\n",
        "    # Flatten the array to handle multi-dimensional inputs easily\n",
        "    flat_arr = arr.flatten()\n",
        "\n",
        "    min_val = flat_arr[0]\n",
        "    min_idx = 0\n",
        "\n",
        "    # Iterate through the array to find the minimum value and its index\n",
        "    for i in range(1, flat_arr.size):\n",
        "        if flat_arr[i] < min_val:\n",
        "            min_val = flat_arr[i]\n",
        "            min_idx = i\n",
        "\n",
        "    return min_idx\n",
        "\n",
        "# --- Verification ---\n",
        "# Create a sample NumPy array\n",
        "np.random.seed(101)\n",
        "test_array_1d = np.random.randint(0, 100, size=10)\n",
        "test_array_2d = np.random.randint(0, 100, size=(3, 4))\n",
        "\n",
        "print(\"--- Verification for 1D Array ---\")\n",
        "print(\"Test Array:\", test_array_1d)\n",
        "\n",
        "custom_result_1d = custom_argmin(test_array_1d)\n",
        "numpy_result_1d = np.argmin(test_array_1d)\n",
        "\n",
        "print(f\"Custom argmin result: {custom_result_1d}\")\n",
        "print(f\"NumPy argmin result:  {numpy_result_1d}\")\n",
        "assert custom_result_1d == numpy_result_1d\n",
        "print(\"Results match!\\n\")\n",
        "\n",
        "\n",
        "print(\"--- Verification for 2D Array ---\")\n",
        "print(\"Test Array:\\n\", test_array_2d)\n",
        "\n",
        "# Note: Our function returns the index in the flattened array, which is\n",
        "# the default behavior of np.argmin() without an axis argument.\n",
        "custom_result_2d = custom_argmin(test_array_2d)\n",
        "numpy_result_2d = np.argmin(test_array_2d)\n",
        "\n",
        "print(f\"Custom argmin result (flattened index): {custom_result_2d}\")\n",
        "print(f\"NumPy argmin result (flattened index):  {numpy_result_2d}\")\n",
        "assert custom_result_2d == numpy_result_2d\n",
        "print(\"Results match!\")"
      ],
      "metadata": {
        "colab": {
          "base_uri": "https://localhost:8080/"
        },
        "id": "M_g4v0YAMXLI",
        "outputId": "e0647eb9-daa6-480f-cc79-d4f2503aab90"
      },
      "execution_count": 14,
      "outputs": [
        {
          "output_type": "stream",
          "name": "stdout",
          "text": [
            "--- Verification for 1D Array ---\n",
            "Test Array: [95 11 81 70 63 87 75  9 77 40]\n",
            "Custom argmin result: 7\n",
            "NumPy argmin result:  7\n",
            "Results match!\n",
            "\n",
            "--- Verification for 2D Array ---\n",
            "Test Array:\n",
            " [[ 4 63 40 60]\n",
            " [92 64  5 12]\n",
            " [93 40 49 83]]\n",
            "Custom argmin result (flattened index): 0\n",
            "NumPy argmin result (flattened index):  0\n",
            "Results match!\n"
          ]
        }
      ]
    }
  ]
}